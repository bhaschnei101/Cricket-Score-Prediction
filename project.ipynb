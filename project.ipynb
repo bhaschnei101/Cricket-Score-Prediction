{
 "cells": [
  {
   "cell_type": "markdown",
   "id": "db5957b5",
   "metadata": {},
   "source": [
    "# IPL First Innings Score Prediction"
   ]
  },
  {
   "cell_type": "markdown",
   "id": "f394d208",
   "metadata": {},
   "source": [
    "                                                                                          Name - B.Sai Pavan Kumar\n",
    "                                                                                          Roll no - AM.EN.U4CSE19214"
   ]
  },
  {
   "cell_type": "markdown",
   "id": "813a496e",
   "metadata": {},
   "source": [
    "# Problem Definition"
   ]
  },
  {
   "cell_type": "markdown",
   "id": "3642a6f7",
   "metadata": {},
   "source": [
    "As we know Cricket is the foremost loved game, after football and most \n",
    "loved game in our India. There are many people who tries to predict the \n",
    "scores of matches based on their individual cricket sense. Cricket has certain \n",
    "rules and game system. When a cricket match is played many factors comes \n",
    "into consideration such as venue, players performance etc.  \n",
    "                                                In this project we are going to predict final score \n",
    "of a team in a match by analyzing data of previous matches. We use features \n",
    "such as current score and no of wickets and score in last few overs. Our \n",
    "system finally present quantitative results displayed by best suitable \n",
    "algorithm having highest accuracy. \n",
    " Cricket is a sport with multiple formats, different playing standards and \n",
    "varying duration. T20 and ODI are two limited overs formats among them. \n",
    "We try to predict scores in these two formats in our project."
   ]
  },
  {
   "cell_type": "markdown",
   "id": "eb0249fc",
   "metadata": {},
   "source": [
    "### Datasets"
   ]
  },
  {
   "cell_type": "markdown",
   "id": "385e627a",
   "metadata": {},
   "source": [
    "-> We have found suitable datasets required for our project in Kaggle website. "
   ]
  },
  {
   "cell_type": "markdown",
   "id": "e18cdf37",
   "metadata": {},
   "source": [
    "The data is about previous records of ball-to-ball information mapped by a \n",
    "batsman to a bowler which includes runs, wickets, overs, runs scored in last 5 \n",
    "overs, wickets for last 5 overs, strike, non-striker. \n",
    "                The datasets are being used by various cricket teams to plan against opponent \n",
    "team players to compare their stats against their bowlers and viceversa."
   ]
  },
  {
   "cell_type": "markdown",
   "id": "ba539bae",
   "metadata": {},
   "source": [
    "Our Datasets are IPL,ODI and T20 scores datasets"
   ]
  },
  {
   "cell_type": "markdown",
   "id": "ae798094",
   "metadata": {},
   "source": [
    "## Prepare Data"
   ]
  },
  {
   "cell_type": "markdown",
   "id": "ef1af2f2",
   "metadata": {},
   "source": [
    "#### Data Loading"
   ]
  },
  {
   "cell_type": "code",
   "execution_count": 12,
   "id": "bfbb0296",
   "metadata": {},
   "outputs": [],
   "source": [
    "# Importing essential libraries\n",
    "import pandas as pd\n",
    "\n",
    "# Loading the dataset\n",
    "data = pd.read_csv('t20.csv')"
   ]
  },
  {
   "cell_type": "code",
   "execution_count": 13,
   "id": "30e23089",
   "metadata": {},
   "outputs": [
    {
     "data": {
      "text/html": [
       "<div>\n",
       "<style scoped>\n",
       "    .dataframe tbody tr th:only-of-type {\n",
       "        vertical-align: middle;\n",
       "    }\n",
       "\n",
       "    .dataframe tbody tr th {\n",
       "        vertical-align: top;\n",
       "    }\n",
       "\n",
       "    .dataframe thead th {\n",
       "        text-align: right;\n",
       "    }\n",
       "</style>\n",
       "<table border=\"1\" class=\"dataframe\">\n",
       "  <thead>\n",
       "    <tr style=\"text-align: right;\">\n",
       "      <th></th>\n",
       "      <th>mid</th>\n",
       "      <th>date</th>\n",
       "      <th>venue</th>\n",
       "      <th>bat_team</th>\n",
       "      <th>bowl_team</th>\n",
       "      <th>batsman</th>\n",
       "      <th>bowler</th>\n",
       "      <th>runs</th>\n",
       "      <th>wickets</th>\n",
       "      <th>overs</th>\n",
       "      <th>runs_last_5</th>\n",
       "      <th>wickets_last_5</th>\n",
       "      <th>striker</th>\n",
       "      <th>non-striker</th>\n",
       "      <th>total</th>\n",
       "    </tr>\n",
       "  </thead>\n",
       "  <tbody>\n",
       "    <tr>\n",
       "      <th>0</th>\n",
       "      <td>1</td>\n",
       "      <td>2005-06-13</td>\n",
       "      <td>The Rose Bowl</td>\n",
       "      <td>England</td>\n",
       "      <td>Australia</td>\n",
       "      <td>ME Trescothick</td>\n",
       "      <td>B Lee</td>\n",
       "      <td>0</td>\n",
       "      <td>0</td>\n",
       "      <td>0.1</td>\n",
       "      <td>0</td>\n",
       "      <td>0</td>\n",
       "      <td>0</td>\n",
       "      <td>0</td>\n",
       "      <td>179</td>\n",
       "    </tr>\n",
       "    <tr>\n",
       "      <th>1</th>\n",
       "      <td>1</td>\n",
       "      <td>2005-06-13</td>\n",
       "      <td>The Rose Bowl</td>\n",
       "      <td>England</td>\n",
       "      <td>Australia</td>\n",
       "      <td>ME Trescothick</td>\n",
       "      <td>B Lee</td>\n",
       "      <td>1</td>\n",
       "      <td>0</td>\n",
       "      <td>0.2</td>\n",
       "      <td>1</td>\n",
       "      <td>0</td>\n",
       "      <td>1</td>\n",
       "      <td>0</td>\n",
       "      <td>179</td>\n",
       "    </tr>\n",
       "    <tr>\n",
       "      <th>2</th>\n",
       "      <td>1</td>\n",
       "      <td>2005-06-13</td>\n",
       "      <td>The Rose Bowl</td>\n",
       "      <td>England</td>\n",
       "      <td>Australia</td>\n",
       "      <td>GO Jones</td>\n",
       "      <td>B Lee</td>\n",
       "      <td>1</td>\n",
       "      <td>0</td>\n",
       "      <td>0.3</td>\n",
       "      <td>1</td>\n",
       "      <td>0</td>\n",
       "      <td>1</td>\n",
       "      <td>0</td>\n",
       "      <td>179</td>\n",
       "    </tr>\n",
       "    <tr>\n",
       "      <th>3</th>\n",
       "      <td>1</td>\n",
       "      <td>2005-06-13</td>\n",
       "      <td>The Rose Bowl</td>\n",
       "      <td>England</td>\n",
       "      <td>Australia</td>\n",
       "      <td>GO Jones</td>\n",
       "      <td>B Lee</td>\n",
       "      <td>1</td>\n",
       "      <td>0</td>\n",
       "      <td>0.4</td>\n",
       "      <td>1</td>\n",
       "      <td>0</td>\n",
       "      <td>1</td>\n",
       "      <td>0</td>\n",
       "      <td>179</td>\n",
       "    </tr>\n",
       "    <tr>\n",
       "      <th>4</th>\n",
       "      <td>1</td>\n",
       "      <td>2005-06-13</td>\n",
       "      <td>The Rose Bowl</td>\n",
       "      <td>England</td>\n",
       "      <td>Australia</td>\n",
       "      <td>GO Jones</td>\n",
       "      <td>B Lee</td>\n",
       "      <td>1</td>\n",
       "      <td>0</td>\n",
       "      <td>0.5</td>\n",
       "      <td>1</td>\n",
       "      <td>0</td>\n",
       "      <td>1</td>\n",
       "      <td>0</td>\n",
       "      <td>179</td>\n",
       "    </tr>\n",
       "  </tbody>\n",
       "</table>\n",
       "</div>"
      ],
      "text/plain": [
       "   mid        date          venue bat_team  bowl_team         batsman bowler  \\\n",
       "0    1  2005-06-13  The Rose Bowl  England  Australia  ME Trescothick  B Lee   \n",
       "1    1  2005-06-13  The Rose Bowl  England  Australia  ME Trescothick  B Lee   \n",
       "2    1  2005-06-13  The Rose Bowl  England  Australia        GO Jones  B Lee   \n",
       "3    1  2005-06-13  The Rose Bowl  England  Australia        GO Jones  B Lee   \n",
       "4    1  2005-06-13  The Rose Bowl  England  Australia        GO Jones  B Lee   \n",
       "\n",
       "   runs  wickets  overs  runs_last_5  wickets_last_5  striker  non-striker  \\\n",
       "0     0        0    0.1            0               0        0            0   \n",
       "1     1        0    0.2            1               0        1            0   \n",
       "2     1        0    0.3            1               0        1            0   \n",
       "3     1        0    0.4            1               0        1            0   \n",
       "4     1        0    0.5            1               0        1            0   \n",
       "\n",
       "   total  \n",
       "0    179  \n",
       "1    179  \n",
       "2    179  \n",
       "3    179  \n",
       "4    179  "
      ]
     },
     "execution_count": 13,
     "metadata": {},
     "output_type": "execute_result"
    }
   ],
   "source": [
    "data.head()"
   ]
  },
  {
   "cell_type": "markdown",
   "id": "ade0ba77",
   "metadata": {},
   "source": [
    "#### Pre-Processing"
   ]
  },
  {
   "cell_type": "code",
   "execution_count": 14,
   "id": "5ca593cb",
   "metadata": {},
   "outputs": [
    {
     "data": {
      "text/html": [
       "<div>\n",
       "<style scoped>\n",
       "    .dataframe tbody tr th:only-of-type {\n",
       "        vertical-align: middle;\n",
       "    }\n",
       "\n",
       "    .dataframe tbody tr th {\n",
       "        vertical-align: top;\n",
       "    }\n",
       "\n",
       "    .dataframe thead th {\n",
       "        text-align: right;\n",
       "    }\n",
       "</style>\n",
       "<table border=\"1\" class=\"dataframe\">\n",
       "  <thead>\n",
       "    <tr style=\"text-align: right;\">\n",
       "      <th></th>\n",
       "      <th>mid</th>\n",
       "      <th>date</th>\n",
       "      <th>venue</th>\n",
       "      <th>bat_team</th>\n",
       "      <th>bowl_team</th>\n",
       "      <th>batsman</th>\n",
       "      <th>bowler</th>\n",
       "      <th>runs</th>\n",
       "      <th>wickets</th>\n",
       "      <th>overs</th>\n",
       "      <th>runs_last_5</th>\n",
       "      <th>wickets_last_5</th>\n",
       "      <th>striker</th>\n",
       "      <th>non-striker</th>\n",
       "      <th>total</th>\n",
       "    </tr>\n",
       "  </thead>\n",
       "  <tbody>\n",
       "    <tr>\n",
       "      <th>count</th>\n",
       "      <td>180777.000000</td>\n",
       "      <td>180777</td>\n",
       "      <td>180777</td>\n",
       "      <td>180777</td>\n",
       "      <td>180777</td>\n",
       "      <td>180777</td>\n",
       "      <td>180777</td>\n",
       "      <td>180777.000000</td>\n",
       "      <td>180777.000000</td>\n",
       "      <td>180777.000000</td>\n",
       "      <td>180777.000000</td>\n",
       "      <td>180777.000000</td>\n",
       "      <td>180777.000000</td>\n",
       "      <td>180777.000000</td>\n",
       "      <td>180777.000000</td>\n",
       "    </tr>\n",
       "    <tr>\n",
       "      <th>unique</th>\n",
       "      <td>NaN</td>\n",
       "      <td>1060</td>\n",
       "      <td>114</td>\n",
       "      <td>67</td>\n",
       "      <td>66</td>\n",
       "      <td>1255</td>\n",
       "      <td>931</td>\n",
       "      <td>NaN</td>\n",
       "      <td>NaN</td>\n",
       "      <td>NaN</td>\n",
       "      <td>NaN</td>\n",
       "      <td>NaN</td>\n",
       "      <td>NaN</td>\n",
       "      <td>NaN</td>\n",
       "      <td>NaN</td>\n",
       "    </tr>\n",
       "    <tr>\n",
       "      <th>top</th>\n",
       "      <td>NaN</td>\n",
       "      <td>2016-07-22</td>\n",
       "      <td>M Chinnaswamy Stadium</td>\n",
       "      <td>Mumbai Indians</td>\n",
       "      <td>Delhi Daredevils</td>\n",
       "      <td>SK Raina</td>\n",
       "      <td>SL Malinga</td>\n",
       "      <td>NaN</td>\n",
       "      <td>NaN</td>\n",
       "      <td>NaN</td>\n",
       "      <td>NaN</td>\n",
       "      <td>NaN</td>\n",
       "      <td>NaN</td>\n",
       "      <td>NaN</td>\n",
       "      <td>NaN</td>\n",
       "    </tr>\n",
       "    <tr>\n",
       "      <th>freq</th>\n",
       "      <td>NaN</td>\n",
       "      <td>983</td>\n",
       "      <td>8063</td>\n",
       "      <td>10213</td>\n",
       "      <td>10245</td>\n",
       "      <td>2580</td>\n",
       "      <td>2203</td>\n",
       "      <td>NaN</td>\n",
       "      <td>NaN</td>\n",
       "      <td>NaN</td>\n",
       "      <td>NaN</td>\n",
       "      <td>NaN</td>\n",
       "      <td>NaN</td>\n",
       "      <td>NaN</td>\n",
       "      <td>NaN</td>\n",
       "    </tr>\n",
       "    <tr>\n",
       "      <th>mean</th>\n",
       "      <td>736.844726</td>\n",
       "      <td>NaN</td>\n",
       "      <td>NaN</td>\n",
       "      <td>NaN</td>\n",
       "      <td>NaN</td>\n",
       "      <td>NaN</td>\n",
       "      <td>NaN</td>\n",
       "      <td>74.553195</td>\n",
       "      <td>2.564541</td>\n",
       "      <td>9.767688</td>\n",
       "      <td>32.898798</td>\n",
       "      <td>1.193847</td>\n",
       "      <td>24.154953</td>\n",
       "      <td>8.163511</td>\n",
       "      <td>158.308225</td>\n",
       "    </tr>\n",
       "    <tr>\n",
       "      <th>std</th>\n",
       "      <td>425.421789</td>\n",
       "      <td>NaN</td>\n",
       "      <td>NaN</td>\n",
       "      <td>NaN</td>\n",
       "      <td>NaN</td>\n",
       "      <td>NaN</td>\n",
       "      <td>NaN</td>\n",
       "      <td>48.530296</td>\n",
       "      <td>2.101655</td>\n",
       "      <td>5.768688</td>\n",
       "      <td>14.769098</td>\n",
       "      <td>1.077084</td>\n",
       "      <td>19.559632</td>\n",
       "      <td>10.043627</td>\n",
       "      <td>30.457209</td>\n",
       "    </tr>\n",
       "    <tr>\n",
       "      <th>min</th>\n",
       "      <td>1.000000</td>\n",
       "      <td>NaN</td>\n",
       "      <td>NaN</td>\n",
       "      <td>NaN</td>\n",
       "      <td>NaN</td>\n",
       "      <td>NaN</td>\n",
       "      <td>NaN</td>\n",
       "      <td>0.000000</td>\n",
       "      <td>0.000000</td>\n",
       "      <td>0.000000</td>\n",
       "      <td>0.000000</td>\n",
       "      <td>0.000000</td>\n",
       "      <td>0.000000</td>\n",
       "      <td>0.000000</td>\n",
       "      <td>39.000000</td>\n",
       "    </tr>\n",
       "    <tr>\n",
       "      <th>25%</th>\n",
       "      <td>368.000000</td>\n",
       "      <td>NaN</td>\n",
       "      <td>NaN</td>\n",
       "      <td>NaN</td>\n",
       "      <td>NaN</td>\n",
       "      <td>NaN</td>\n",
       "      <td>NaN</td>\n",
       "      <td>34.000000</td>\n",
       "      <td>1.000000</td>\n",
       "      <td>4.600000</td>\n",
       "      <td>24.000000</td>\n",
       "      <td>0.000000</td>\n",
       "      <td>9.000000</td>\n",
       "      <td>1.000000</td>\n",
       "      <td>139.000000</td>\n",
       "    </tr>\n",
       "    <tr>\n",
       "      <th>50%</th>\n",
       "      <td>737.000000</td>\n",
       "      <td>NaN</td>\n",
       "      <td>NaN</td>\n",
       "      <td>NaN</td>\n",
       "      <td>NaN</td>\n",
       "      <td>NaN</td>\n",
       "      <td>NaN</td>\n",
       "      <td>70.000000</td>\n",
       "      <td>2.000000</td>\n",
       "      <td>9.600000</td>\n",
       "      <td>34.000000</td>\n",
       "      <td>1.000000</td>\n",
       "      <td>20.000000</td>\n",
       "      <td>4.000000</td>\n",
       "      <td>159.000000</td>\n",
       "    </tr>\n",
       "    <tr>\n",
       "      <th>75%</th>\n",
       "      <td>1105.000000</td>\n",
       "      <td>NaN</td>\n",
       "      <td>NaN</td>\n",
       "      <td>NaN</td>\n",
       "      <td>NaN</td>\n",
       "      <td>NaN</td>\n",
       "      <td>NaN</td>\n",
       "      <td>110.000000</td>\n",
       "      <td>4.000000</td>\n",
       "      <td>14.600000</td>\n",
       "      <td>43.000000</td>\n",
       "      <td>2.000000</td>\n",
       "      <td>34.000000</td>\n",
       "      <td>12.000000</td>\n",
       "      <td>179.000000</td>\n",
       "    </tr>\n",
       "    <tr>\n",
       "      <th>max</th>\n",
       "      <td>1474.000000</td>\n",
       "      <td>NaN</td>\n",
       "      <td>NaN</td>\n",
       "      <td>NaN</td>\n",
       "      <td>NaN</td>\n",
       "      <td>NaN</td>\n",
       "      <td>NaN</td>\n",
       "      <td>263.000000</td>\n",
       "      <td>10.000000</td>\n",
       "      <td>19.600000</td>\n",
       "      <td>113.000000</td>\n",
       "      <td>8.000000</td>\n",
       "      <td>175.000000</td>\n",
       "      <td>109.000000</td>\n",
       "      <td>263.000000</td>\n",
       "    </tr>\n",
       "  </tbody>\n",
       "</table>\n",
       "</div>"
      ],
      "text/plain": [
       "                  mid        date                  venue        bat_team  \\\n",
       "count   180777.000000      180777                 180777          180777   \n",
       "unique            NaN        1060                    114              67   \n",
       "top               NaN  2016-07-22  M Chinnaswamy Stadium  Mumbai Indians   \n",
       "freq              NaN         983                   8063           10213   \n",
       "mean       736.844726         NaN                    NaN             NaN   \n",
       "std        425.421789         NaN                    NaN             NaN   \n",
       "min          1.000000         NaN                    NaN             NaN   \n",
       "25%        368.000000         NaN                    NaN             NaN   \n",
       "50%        737.000000         NaN                    NaN             NaN   \n",
       "75%       1105.000000         NaN                    NaN             NaN   \n",
       "max       1474.000000         NaN                    NaN             NaN   \n",
       "\n",
       "               bowl_team   batsman      bowler           runs        wickets  \\\n",
       "count             180777    180777      180777  180777.000000  180777.000000   \n",
       "unique                66      1255         931            NaN            NaN   \n",
       "top     Delhi Daredevils  SK Raina  SL Malinga            NaN            NaN   \n",
       "freq               10245      2580        2203            NaN            NaN   \n",
       "mean                 NaN       NaN         NaN      74.553195       2.564541   \n",
       "std                  NaN       NaN         NaN      48.530296       2.101655   \n",
       "min                  NaN       NaN         NaN       0.000000       0.000000   \n",
       "25%                  NaN       NaN         NaN      34.000000       1.000000   \n",
       "50%                  NaN       NaN         NaN      70.000000       2.000000   \n",
       "75%                  NaN       NaN         NaN     110.000000       4.000000   \n",
       "max                  NaN       NaN         NaN     263.000000      10.000000   \n",
       "\n",
       "                overs    runs_last_5  wickets_last_5        striker  \\\n",
       "count   180777.000000  180777.000000   180777.000000  180777.000000   \n",
       "unique            NaN            NaN             NaN            NaN   \n",
       "top               NaN            NaN             NaN            NaN   \n",
       "freq              NaN            NaN             NaN            NaN   \n",
       "mean         9.767688      32.898798        1.193847      24.154953   \n",
       "std          5.768688      14.769098        1.077084      19.559632   \n",
       "min          0.000000       0.000000        0.000000       0.000000   \n",
       "25%          4.600000      24.000000        0.000000       9.000000   \n",
       "50%          9.600000      34.000000        1.000000      20.000000   \n",
       "75%         14.600000      43.000000        2.000000      34.000000   \n",
       "max         19.600000     113.000000        8.000000     175.000000   \n",
       "\n",
       "          non-striker          total  \n",
       "count   180777.000000  180777.000000  \n",
       "unique            NaN            NaN  \n",
       "top               NaN            NaN  \n",
       "freq              NaN            NaN  \n",
       "mean         8.163511     158.308225  \n",
       "std         10.043627      30.457209  \n",
       "min          0.000000      39.000000  \n",
       "25%          1.000000     139.000000  \n",
       "50%          4.000000     159.000000  \n",
       "75%         12.000000     179.000000  \n",
       "max        109.000000     263.000000  "
      ]
     },
     "execution_count": 14,
     "metadata": {},
     "output_type": "execute_result"
    }
   ],
   "source": [
    "data.describe(include='all')"
   ]
  },
  {
   "cell_type": "code",
   "execution_count": 15,
   "id": "5e02419d",
   "metadata": {},
   "outputs": [
    {
     "name": "stdout",
     "output_type": "stream",
     "text": [
      "<class 'pandas.core.frame.DataFrame'>\n",
      "RangeIndex: 180777 entries, 0 to 180776\n",
      "Data columns (total 15 columns):\n",
      " #   Column          Non-Null Count   Dtype  \n",
      "---  ------          --------------   -----  \n",
      " 0   mid             180777 non-null  int64  \n",
      " 1   date            180777 non-null  object \n",
      " 2   venue           180777 non-null  object \n",
      " 3   bat_team        180777 non-null  object \n",
      " 4   bowl_team       180777 non-null  object \n",
      " 5   batsman         180777 non-null  object \n",
      " 6   bowler          180777 non-null  object \n",
      " 7   runs            180777 non-null  int64  \n",
      " 8   wickets         180777 non-null  int64  \n",
      " 9   overs           180777 non-null  float64\n",
      " 10  runs_last_5     180777 non-null  int64  \n",
      " 11  wickets_last_5  180777 non-null  int64  \n",
      " 12  striker         180777 non-null  int64  \n",
      " 13  non-striker     180777 non-null  int64  \n",
      " 14  total           180777 non-null  int64  \n",
      "dtypes: float64(1), int64(8), object(6)\n",
      "memory usage: 20.7+ MB\n"
     ]
    }
   ],
   "source": [
    "data.info()"
   ]
  },
  {
   "cell_type": "code",
   "execution_count": 16,
   "id": "2f35d67b",
   "metadata": {},
   "outputs": [],
   "source": [
    "# --- Data Cleaning ---\n",
    "# Removing unwanted columns to make sure the variables which are not needed in generating model are being removed\n",
    "columns_to_remove = ['mid', 'venue', 'batsman', 'bowler', 'striker', 'non-striker']\n",
    "data.drop(labels=columns_to_remove, axis=1, inplace=True)"
   ]
  },
  {
   "cell_type": "code",
   "execution_count": 17,
   "id": "abd0f112",
   "metadata": {},
   "outputs": [
    {
     "data": {
      "text/plain": [
       "array(['England', 'Australia', 'South Africa', 'Sri Lanka', 'West Indies',\n",
       "       'Kenya', 'Pakistan', 'India', 'New Zealand', 'Bangladesh',\n",
       "       'Kolkata Knight Riders', 'Chennai Super Kings', 'Rajasthan Royals',\n",
       "       'Mumbai Indians', 'Deccan Chargers', 'Kings XI Punjab',\n",
       "       'Royal Challengers Bangalore', 'Delhi Daredevils', 'Bermuda',\n",
       "       'Scotland', 'Ireland', 'Afghanistan', 'Zimbabwe', 'Canada',\n",
       "       'Kochi Tuskers Kerala', 'Pune Warriors', 'Brisbane Heat',\n",
       "       'Melbourne Stars', 'Adelaide Strikers', 'Hobart Hurricanes',\n",
       "       'Melbourne Renegades', 'Sydney Sixers', 'Perth Scorchers',\n",
       "       'Sydney Thunder', 'Netherlands', 'Sunrisers Hyderabad', 'Nepal',\n",
       "       'United Arab Emirates', 'Hong Kong', 'Papua New Guinea', 'Oman',\n",
       "       'Nottinghamshire', 'Worcestershire', 'Somerset', 'Surrey',\n",
       "       'Lancashire', 'Middlesex', 'Derbyshire', 'Leicestershire',\n",
       "       'Warwickshire', 'Glamorgan', 'Durham', 'Sussex', 'Hampshire',\n",
       "       'Yorkshire', 'Essex', 'Kent', 'Gloucestershire',\n",
       "       'Northamptonshire', 'Rising Pune Supergiants', 'Gujarat Lions',\n",
       "       'Quetta Gladiators', 'Karachi Kings', 'Islamabad United',\n",
       "       'Lahore Qalandars', 'Peshawar Zalmi', 'Rising Pune Supergiant'],\n",
       "      dtype=object)"
      ]
     },
     "execution_count": 17,
     "metadata": {},
     "output_type": "execute_result"
    }
   ],
   "source": [
    "data['bat_team'].unique()"
   ]
  },
  {
   "cell_type": "code",
   "execution_count": 18,
   "id": "89424228",
   "metadata": {},
   "outputs": [],
   "source": [
    "# Keeping only consistent teams\n",
    "#These are array of teams that are currently not playing in IPL\n",
    "consistent_teams = ['India', 'Australia', 'England',\n",
    "                    'Sri Lanka', 'South Africa', 'West Indies',\n",
    "                    'Bangladesh', 'Pakistan']"
   ]
  },
  {
   "cell_type": "code",
   "execution_count": 19,
   "id": "1f969e9f",
   "metadata": {},
   "outputs": [],
   "source": [
    "#Dropping all other teams instead of these consistent teams from both batting and bowling rows\n",
    "data = data[(data['bat_team'].isin(consistent_teams)) & (data['bowl_team'].isin(consistent_teams))]"
   ]
  },
  {
   "cell_type": "code",
   "execution_count": 20,
   "id": "47e9dc9c",
   "metadata": {},
   "outputs": [],
   "source": [
    "# Removing the first 5 overs data in every match to avoid the false prediction\n",
    "# We cant predict the score by seeing the score in 5 overs we need \n",
    "# atleast 5+ overs to estimate considering real world situation\n",
    "data = data[data['overs']>=5.0]"
   ]
  },
  {
   "cell_type": "code",
   "execution_count": 21,
   "id": "8e5765c9",
   "metadata": {},
   "outputs": [
    {
     "data": {
      "text/html": [
       "<div>\n",
       "<style scoped>\n",
       "    .dataframe tbody tr th:only-of-type {\n",
       "        vertical-align: middle;\n",
       "    }\n",
       "\n",
       "    .dataframe tbody tr th {\n",
       "        vertical-align: top;\n",
       "    }\n",
       "\n",
       "    .dataframe thead th {\n",
       "        text-align: right;\n",
       "    }\n",
       "</style>\n",
       "<table border=\"1\" class=\"dataframe\">\n",
       "  <thead>\n",
       "    <tr style=\"text-align: right;\">\n",
       "      <th></th>\n",
       "      <th>date</th>\n",
       "      <th>bat_team</th>\n",
       "      <th>bowl_team</th>\n",
       "      <th>runs</th>\n",
       "      <th>wickets</th>\n",
       "      <th>overs</th>\n",
       "      <th>runs_last_5</th>\n",
       "      <th>wickets_last_5</th>\n",
       "      <th>total</th>\n",
       "    </tr>\n",
       "  </thead>\n",
       "  <tbody>\n",
       "    <tr>\n",
       "      <th>34</th>\n",
       "      <td>2005-06-13</td>\n",
       "      <td>England</td>\n",
       "      <td>Australia</td>\n",
       "      <td>44</td>\n",
       "      <td>1</td>\n",
       "      <td>5.1</td>\n",
       "      <td>43</td>\n",
       "      <td>1</td>\n",
       "      <td>179</td>\n",
       "    </tr>\n",
       "    <tr>\n",
       "      <th>35</th>\n",
       "      <td>2005-06-13</td>\n",
       "      <td>England</td>\n",
       "      <td>Australia</td>\n",
       "      <td>44</td>\n",
       "      <td>1</td>\n",
       "      <td>5.2</td>\n",
       "      <td>42</td>\n",
       "      <td>1</td>\n",
       "      <td>179</td>\n",
       "    </tr>\n",
       "    <tr>\n",
       "      <th>36</th>\n",
       "      <td>2005-06-13</td>\n",
       "      <td>England</td>\n",
       "      <td>Australia</td>\n",
       "      <td>48</td>\n",
       "      <td>1</td>\n",
       "      <td>5.3</td>\n",
       "      <td>44</td>\n",
       "      <td>1</td>\n",
       "      <td>179</td>\n",
       "    </tr>\n",
       "    <tr>\n",
       "      <th>37</th>\n",
       "      <td>2005-06-13</td>\n",
       "      <td>England</td>\n",
       "      <td>Australia</td>\n",
       "      <td>49</td>\n",
       "      <td>1</td>\n",
       "      <td>5.4</td>\n",
       "      <td>45</td>\n",
       "      <td>1</td>\n",
       "      <td>179</td>\n",
       "    </tr>\n",
       "    <tr>\n",
       "      <th>38</th>\n",
       "      <td>2005-06-13</td>\n",
       "      <td>England</td>\n",
       "      <td>Australia</td>\n",
       "      <td>49</td>\n",
       "      <td>2</td>\n",
       "      <td>5.5</td>\n",
       "      <td>45</td>\n",
       "      <td>2</td>\n",
       "      <td>179</td>\n",
       "    </tr>\n",
       "  </tbody>\n",
       "</table>\n",
       "</div>"
      ],
      "text/plain": [
       "          date bat_team  bowl_team  runs  wickets  overs  runs_last_5  \\\n",
       "34  2005-06-13  England  Australia    44        1    5.1           43   \n",
       "35  2005-06-13  England  Australia    44        1    5.2           42   \n",
       "36  2005-06-13  England  Australia    48        1    5.3           44   \n",
       "37  2005-06-13  England  Australia    49        1    5.4           45   \n",
       "38  2005-06-13  England  Australia    49        2    5.5           45   \n",
       "\n",
       "    wickets_last_5  total  \n",
       "34               1    179  \n",
       "35               1    179  \n",
       "36               1    179  \n",
       "37               1    179  \n",
       "38               2    179  "
      ]
     },
     "execution_count": 21,
     "metadata": {},
     "output_type": "execute_result"
    }
   ],
   "source": [
    "data.head()"
   ]
  },
  {
   "cell_type": "code",
   "execution_count": 22,
   "id": "1c27fc2b",
   "metadata": {},
   "outputs": [],
   "source": [
    "# Converting the column 'date' from string into datetime object\n",
    "from datetime import datetime\n",
    "data['date'] = data['date'].apply(lambda x: datetime.strptime(x, '%Y-%m-%d'))"
   ]
  },
  {
   "cell_type": "code",
   "execution_count": 23,
   "id": "c71a2f62",
   "metadata": {},
   "outputs": [],
   "source": [
    "# --- Data Preprocessing ---\n",
    "# Converting categorical features using OneHotEncoding method\n",
    "encoded_data = pd.get_dummies(data=data, columns=['bat_team', 'bowl_team'])\n",
    "# Here we cannot apply teams directly so instead i hard coded all the teams in dataset\n",
    "# 1 if it is batting or bowling or else 0"
   ]
  },
  {
   "cell_type": "code",
   "execution_count": 24,
   "id": "1fbe8ca5",
   "metadata": {},
   "outputs": [
    {
     "data": {
      "text/html": [
       "<div>\n",
       "<style scoped>\n",
       "    .dataframe tbody tr th:only-of-type {\n",
       "        vertical-align: middle;\n",
       "    }\n",
       "\n",
       "    .dataframe tbody tr th {\n",
       "        vertical-align: top;\n",
       "    }\n",
       "\n",
       "    .dataframe thead th {\n",
       "        text-align: right;\n",
       "    }\n",
       "</style>\n",
       "<table border=\"1\" class=\"dataframe\">\n",
       "  <thead>\n",
       "    <tr style=\"text-align: right;\">\n",
       "      <th></th>\n",
       "      <th>date</th>\n",
       "      <th>runs</th>\n",
       "      <th>wickets</th>\n",
       "      <th>overs</th>\n",
       "      <th>runs_last_5</th>\n",
       "      <th>wickets_last_5</th>\n",
       "      <th>total</th>\n",
       "      <th>bat_team_Australia</th>\n",
       "      <th>bat_team_Bangladesh</th>\n",
       "      <th>bat_team_England</th>\n",
       "      <th>...</th>\n",
       "      <th>bat_team_Sri Lanka</th>\n",
       "      <th>bat_team_West Indies</th>\n",
       "      <th>bowl_team_Australia</th>\n",
       "      <th>bowl_team_Bangladesh</th>\n",
       "      <th>bowl_team_England</th>\n",
       "      <th>bowl_team_India</th>\n",
       "      <th>bowl_team_Pakistan</th>\n",
       "      <th>bowl_team_South Africa</th>\n",
       "      <th>bowl_team_Sri Lanka</th>\n",
       "      <th>bowl_team_West Indies</th>\n",
       "    </tr>\n",
       "  </thead>\n",
       "  <tbody>\n",
       "    <tr>\n",
       "      <th>34</th>\n",
       "      <td>2005-06-13</td>\n",
       "      <td>44</td>\n",
       "      <td>1</td>\n",
       "      <td>5.1</td>\n",
       "      <td>43</td>\n",
       "      <td>1</td>\n",
       "      <td>179</td>\n",
       "      <td>0</td>\n",
       "      <td>0</td>\n",
       "      <td>1</td>\n",
       "      <td>...</td>\n",
       "      <td>0</td>\n",
       "      <td>0</td>\n",
       "      <td>1</td>\n",
       "      <td>0</td>\n",
       "      <td>0</td>\n",
       "      <td>0</td>\n",
       "      <td>0</td>\n",
       "      <td>0</td>\n",
       "      <td>0</td>\n",
       "      <td>0</td>\n",
       "    </tr>\n",
       "    <tr>\n",
       "      <th>35</th>\n",
       "      <td>2005-06-13</td>\n",
       "      <td>44</td>\n",
       "      <td>1</td>\n",
       "      <td>5.2</td>\n",
       "      <td>42</td>\n",
       "      <td>1</td>\n",
       "      <td>179</td>\n",
       "      <td>0</td>\n",
       "      <td>0</td>\n",
       "      <td>1</td>\n",
       "      <td>...</td>\n",
       "      <td>0</td>\n",
       "      <td>0</td>\n",
       "      <td>1</td>\n",
       "      <td>0</td>\n",
       "      <td>0</td>\n",
       "      <td>0</td>\n",
       "      <td>0</td>\n",
       "      <td>0</td>\n",
       "      <td>0</td>\n",
       "      <td>0</td>\n",
       "    </tr>\n",
       "    <tr>\n",
       "      <th>36</th>\n",
       "      <td>2005-06-13</td>\n",
       "      <td>48</td>\n",
       "      <td>1</td>\n",
       "      <td>5.3</td>\n",
       "      <td>44</td>\n",
       "      <td>1</td>\n",
       "      <td>179</td>\n",
       "      <td>0</td>\n",
       "      <td>0</td>\n",
       "      <td>1</td>\n",
       "      <td>...</td>\n",
       "      <td>0</td>\n",
       "      <td>0</td>\n",
       "      <td>1</td>\n",
       "      <td>0</td>\n",
       "      <td>0</td>\n",
       "      <td>0</td>\n",
       "      <td>0</td>\n",
       "      <td>0</td>\n",
       "      <td>0</td>\n",
       "      <td>0</td>\n",
       "    </tr>\n",
       "    <tr>\n",
       "      <th>37</th>\n",
       "      <td>2005-06-13</td>\n",
       "      <td>49</td>\n",
       "      <td>1</td>\n",
       "      <td>5.4</td>\n",
       "      <td>45</td>\n",
       "      <td>1</td>\n",
       "      <td>179</td>\n",
       "      <td>0</td>\n",
       "      <td>0</td>\n",
       "      <td>1</td>\n",
       "      <td>...</td>\n",
       "      <td>0</td>\n",
       "      <td>0</td>\n",
       "      <td>1</td>\n",
       "      <td>0</td>\n",
       "      <td>0</td>\n",
       "      <td>0</td>\n",
       "      <td>0</td>\n",
       "      <td>0</td>\n",
       "      <td>0</td>\n",
       "      <td>0</td>\n",
       "    </tr>\n",
       "    <tr>\n",
       "      <th>38</th>\n",
       "      <td>2005-06-13</td>\n",
       "      <td>49</td>\n",
       "      <td>2</td>\n",
       "      <td>5.5</td>\n",
       "      <td>45</td>\n",
       "      <td>2</td>\n",
       "      <td>179</td>\n",
       "      <td>0</td>\n",
       "      <td>0</td>\n",
       "      <td>1</td>\n",
       "      <td>...</td>\n",
       "      <td>0</td>\n",
       "      <td>0</td>\n",
       "      <td>1</td>\n",
       "      <td>0</td>\n",
       "      <td>0</td>\n",
       "      <td>0</td>\n",
       "      <td>0</td>\n",
       "      <td>0</td>\n",
       "      <td>0</td>\n",
       "      <td>0</td>\n",
       "    </tr>\n",
       "  </tbody>\n",
       "</table>\n",
       "<p>5 rows × 23 columns</p>\n",
       "</div>"
      ],
      "text/plain": [
       "         date  runs  wickets  overs  runs_last_5  wickets_last_5  total  \\\n",
       "34 2005-06-13    44        1    5.1           43               1    179   \n",
       "35 2005-06-13    44        1    5.2           42               1    179   \n",
       "36 2005-06-13    48        1    5.3           44               1    179   \n",
       "37 2005-06-13    49        1    5.4           45               1    179   \n",
       "38 2005-06-13    49        2    5.5           45               2    179   \n",
       "\n",
       "    bat_team_Australia  bat_team_Bangladesh  bat_team_England  ...  \\\n",
       "34                   0                    0                 1  ...   \n",
       "35                   0                    0                 1  ...   \n",
       "36                   0                    0                 1  ...   \n",
       "37                   0                    0                 1  ...   \n",
       "38                   0                    0                 1  ...   \n",
       "\n",
       "    bat_team_Sri Lanka  bat_team_West Indies  bowl_team_Australia  \\\n",
       "34                   0                     0                    1   \n",
       "35                   0                     0                    1   \n",
       "36                   0                     0                    1   \n",
       "37                   0                     0                    1   \n",
       "38                   0                     0                    1   \n",
       "\n",
       "    bowl_team_Bangladesh  bowl_team_England  bowl_team_India  \\\n",
       "34                     0                  0                0   \n",
       "35                     0                  0                0   \n",
       "36                     0                  0                0   \n",
       "37                     0                  0                0   \n",
       "38                     0                  0                0   \n",
       "\n",
       "    bowl_team_Pakistan  bowl_team_South Africa  bowl_team_Sri Lanka  \\\n",
       "34                   0                       0                    0   \n",
       "35                   0                       0                    0   \n",
       "36                   0                       0                    0   \n",
       "37                   0                       0                    0   \n",
       "38                   0                       0                    0   \n",
       "\n",
       "    bowl_team_West Indies  \n",
       "34                      0  \n",
       "35                      0  \n",
       "36                      0  \n",
       "37                      0  \n",
       "38                      0  \n",
       "\n",
       "[5 rows x 23 columns]"
      ]
     },
     "execution_count": 24,
     "metadata": {},
     "output_type": "execute_result"
    }
   ],
   "source": [
    "encoded_data.head()"
   ]
  },
  {
   "cell_type": "code",
   "execution_count": 25,
   "id": "0a16a753",
   "metadata": {},
   "outputs": [
    {
     "data": {
      "text/plain": [
       "Index(['date', 'runs', 'wickets', 'overs', 'runs_last_5', 'wickets_last_5',\n",
       "       'total', 'bat_team_Australia', 'bat_team_Bangladesh',\n",
       "       'bat_team_England', 'bat_team_India', 'bat_team_Pakistan',\n",
       "       'bat_team_South Africa', 'bat_team_Sri Lanka', 'bat_team_West Indies',\n",
       "       'bowl_team_Australia', 'bowl_team_Bangladesh', 'bowl_team_England',\n",
       "       'bowl_team_India', 'bowl_team_Pakistan', 'bowl_team_South Africa',\n",
       "       'bowl_team_Sri Lanka', 'bowl_team_West Indies'],\n",
       "      dtype='object')"
      ]
     },
     "execution_count": 25,
     "metadata": {},
     "output_type": "execute_result"
    }
   ],
   "source": [
    "encoded_data.columns"
   ]
  },
  {
   "cell_type": "code",
   "execution_count": 28,
   "id": "dee437e7",
   "metadata": {},
   "outputs": [],
   "source": [
    "# Rearranging the columns so target value will be at last\n",
    "encoded_data = encoded_data[['date', 'bat_team_India', 'bat_team_Australia', 'bat_team_England',\n",
    "              'bat_team_Sri Lanka', 'bat_team_West Indies', 'bat_team_South Africa',\n",
    "              'bat_team_Bangladesh', 'bat_team_Pakistan',\n",
    "              'bowl_team_India', 'bowl_team_Australia', 'bowl_team_England',\n",
    "              'bowl_team_Sri Lanka', 'bowl_team_West Indies', 'bowl_team_South Africa',\n",
    "              'bowl_team_Bangladesh', 'bowl_team_Pakistan',\n",
    "              'overs', 'runs', 'wickets', 'runs_last_5', 'wickets_last_5', 'total']]"
   ]
  },
  {
   "cell_type": "code",
   "execution_count": 29,
   "id": "3785a154",
   "metadata": {},
   "outputs": [
    {
     "data": {
      "text/html": [
       "<div>\n",
       "<style scoped>\n",
       "    .dataframe tbody tr th:only-of-type {\n",
       "        vertical-align: middle;\n",
       "    }\n",
       "\n",
       "    .dataframe tbody tr th {\n",
       "        vertical-align: top;\n",
       "    }\n",
       "\n",
       "    .dataframe thead th {\n",
       "        text-align: right;\n",
       "    }\n",
       "</style>\n",
       "<table border=\"1\" class=\"dataframe\">\n",
       "  <thead>\n",
       "    <tr style=\"text-align: right;\">\n",
       "      <th></th>\n",
       "      <th>date</th>\n",
       "      <th>bat_team_India</th>\n",
       "      <th>bat_team_Australia</th>\n",
       "      <th>bat_team_England</th>\n",
       "      <th>bat_team_Sri Lanka</th>\n",
       "      <th>bat_team_West Indies</th>\n",
       "      <th>bat_team_South Africa</th>\n",
       "      <th>bat_team_Bangladesh</th>\n",
       "      <th>bat_team_Pakistan</th>\n",
       "      <th>bowl_team_India</th>\n",
       "      <th>...</th>\n",
       "      <th>bowl_team_West Indies</th>\n",
       "      <th>bowl_team_South Africa</th>\n",
       "      <th>bowl_team_Bangladesh</th>\n",
       "      <th>bowl_team_Pakistan</th>\n",
       "      <th>overs</th>\n",
       "      <th>runs</th>\n",
       "      <th>wickets</th>\n",
       "      <th>runs_last_5</th>\n",
       "      <th>wickets_last_5</th>\n",
       "      <th>total</th>\n",
       "    </tr>\n",
       "  </thead>\n",
       "  <tbody>\n",
       "    <tr>\n",
       "      <th>34</th>\n",
       "      <td>2005-06-13</td>\n",
       "      <td>0</td>\n",
       "      <td>0</td>\n",
       "      <td>1</td>\n",
       "      <td>0</td>\n",
       "      <td>0</td>\n",
       "      <td>0</td>\n",
       "      <td>0</td>\n",
       "      <td>0</td>\n",
       "      <td>0</td>\n",
       "      <td>...</td>\n",
       "      <td>0</td>\n",
       "      <td>0</td>\n",
       "      <td>0</td>\n",
       "      <td>0</td>\n",
       "      <td>5.1</td>\n",
       "      <td>44</td>\n",
       "      <td>1</td>\n",
       "      <td>43</td>\n",
       "      <td>1</td>\n",
       "      <td>179</td>\n",
       "    </tr>\n",
       "    <tr>\n",
       "      <th>35</th>\n",
       "      <td>2005-06-13</td>\n",
       "      <td>0</td>\n",
       "      <td>0</td>\n",
       "      <td>1</td>\n",
       "      <td>0</td>\n",
       "      <td>0</td>\n",
       "      <td>0</td>\n",
       "      <td>0</td>\n",
       "      <td>0</td>\n",
       "      <td>0</td>\n",
       "      <td>...</td>\n",
       "      <td>0</td>\n",
       "      <td>0</td>\n",
       "      <td>0</td>\n",
       "      <td>0</td>\n",
       "      <td>5.2</td>\n",
       "      <td>44</td>\n",
       "      <td>1</td>\n",
       "      <td>42</td>\n",
       "      <td>1</td>\n",
       "      <td>179</td>\n",
       "    </tr>\n",
       "    <tr>\n",
       "      <th>36</th>\n",
       "      <td>2005-06-13</td>\n",
       "      <td>0</td>\n",
       "      <td>0</td>\n",
       "      <td>1</td>\n",
       "      <td>0</td>\n",
       "      <td>0</td>\n",
       "      <td>0</td>\n",
       "      <td>0</td>\n",
       "      <td>0</td>\n",
       "      <td>0</td>\n",
       "      <td>...</td>\n",
       "      <td>0</td>\n",
       "      <td>0</td>\n",
       "      <td>0</td>\n",
       "      <td>0</td>\n",
       "      <td>5.3</td>\n",
       "      <td>48</td>\n",
       "      <td>1</td>\n",
       "      <td>44</td>\n",
       "      <td>1</td>\n",
       "      <td>179</td>\n",
       "    </tr>\n",
       "    <tr>\n",
       "      <th>37</th>\n",
       "      <td>2005-06-13</td>\n",
       "      <td>0</td>\n",
       "      <td>0</td>\n",
       "      <td>1</td>\n",
       "      <td>0</td>\n",
       "      <td>0</td>\n",
       "      <td>0</td>\n",
       "      <td>0</td>\n",
       "      <td>0</td>\n",
       "      <td>0</td>\n",
       "      <td>...</td>\n",
       "      <td>0</td>\n",
       "      <td>0</td>\n",
       "      <td>0</td>\n",
       "      <td>0</td>\n",
       "      <td>5.4</td>\n",
       "      <td>49</td>\n",
       "      <td>1</td>\n",
       "      <td>45</td>\n",
       "      <td>1</td>\n",
       "      <td>179</td>\n",
       "    </tr>\n",
       "    <tr>\n",
       "      <th>38</th>\n",
       "      <td>2005-06-13</td>\n",
       "      <td>0</td>\n",
       "      <td>0</td>\n",
       "      <td>1</td>\n",
       "      <td>0</td>\n",
       "      <td>0</td>\n",
       "      <td>0</td>\n",
       "      <td>0</td>\n",
       "      <td>0</td>\n",
       "      <td>0</td>\n",
       "      <td>...</td>\n",
       "      <td>0</td>\n",
       "      <td>0</td>\n",
       "      <td>0</td>\n",
       "      <td>0</td>\n",
       "      <td>5.5</td>\n",
       "      <td>49</td>\n",
       "      <td>2</td>\n",
       "      <td>45</td>\n",
       "      <td>2</td>\n",
       "      <td>179</td>\n",
       "    </tr>\n",
       "  </tbody>\n",
       "</table>\n",
       "<p>5 rows × 23 columns</p>\n",
       "</div>"
      ],
      "text/plain": [
       "         date  bat_team_India  bat_team_Australia  bat_team_England  \\\n",
       "34 2005-06-13               0                   0                 1   \n",
       "35 2005-06-13               0                   0                 1   \n",
       "36 2005-06-13               0                   0                 1   \n",
       "37 2005-06-13               0                   0                 1   \n",
       "38 2005-06-13               0                   0                 1   \n",
       "\n",
       "    bat_team_Sri Lanka  bat_team_West Indies  bat_team_South Africa  \\\n",
       "34                   0                     0                      0   \n",
       "35                   0                     0                      0   \n",
       "36                   0                     0                      0   \n",
       "37                   0                     0                      0   \n",
       "38                   0                     0                      0   \n",
       "\n",
       "    bat_team_Bangladesh  bat_team_Pakistan  bowl_team_India  ...  \\\n",
       "34                    0                  0                0  ...   \n",
       "35                    0                  0                0  ...   \n",
       "36                    0                  0                0  ...   \n",
       "37                    0                  0                0  ...   \n",
       "38                    0                  0                0  ...   \n",
       "\n",
       "    bowl_team_West Indies  bowl_team_South Africa  bowl_team_Bangladesh  \\\n",
       "34                      0                       0                     0   \n",
       "35                      0                       0                     0   \n",
       "36                      0                       0                     0   \n",
       "37                      0                       0                     0   \n",
       "38                      0                       0                     0   \n",
       "\n",
       "    bowl_team_Pakistan  overs  runs  wickets  runs_last_5  wickets_last_5  \\\n",
       "34                   0    5.1    44        1           43               1   \n",
       "35                   0    5.2    44        1           42               1   \n",
       "36                   0    5.3    48        1           44               1   \n",
       "37                   0    5.4    49        1           45               1   \n",
       "38                   0    5.5    49        2           45               2   \n",
       "\n",
       "    total  \n",
       "34    179  \n",
       "35    179  \n",
       "36    179  \n",
       "37    179  \n",
       "38    179  \n",
       "\n",
       "[5 rows x 23 columns]"
      ]
     },
     "execution_count": 29,
     "metadata": {},
     "output_type": "execute_result"
    }
   ],
   "source": [
    "encoded_data.head()"
   ]
  },
  {
   "cell_type": "markdown",
   "id": "da4579ae",
   "metadata": {},
   "source": [
    "### Summarization"
   ]
  },
  {
   "cell_type": "code",
   "execution_count": 30,
   "id": "570e623d",
   "metadata": {},
   "outputs": [
    {
     "data": {
      "text/plain": [
       "(24170, 23)"
      ]
     },
     "execution_count": 30,
     "metadata": {},
     "output_type": "execute_result"
    }
   ],
   "source": [
    "encoded_data.shape"
   ]
  },
  {
   "cell_type": "code",
   "execution_count": 31,
   "id": "74fb176c",
   "metadata": {},
   "outputs": [
    {
     "data": {
      "text/plain": [
       "Index(['date', 'bat_team_India', 'bat_team_Australia', 'bat_team_England',\n",
       "       'bat_team_Sri Lanka', 'bat_team_West Indies', 'bat_team_South Africa',\n",
       "       'bat_team_Bangladesh', 'bat_team_Pakistan', 'bowl_team_India',\n",
       "       'bowl_team_Australia', 'bowl_team_England', 'bowl_team_Sri Lanka',\n",
       "       'bowl_team_West Indies', 'bowl_team_South Africa',\n",
       "       'bowl_team_Bangladesh', 'bowl_team_Pakistan', 'overs', 'runs',\n",
       "       'wickets', 'runs_last_5', 'wickets_last_5', 'total'],\n",
       "      dtype='object')"
      ]
     },
     "execution_count": 31,
     "metadata": {},
     "output_type": "execute_result"
    }
   ],
   "source": [
    "encoded_data.columns"
   ]
  },
  {
   "cell_type": "code",
   "execution_count": 32,
   "id": "688cc0e2",
   "metadata": {},
   "outputs": [
    {
     "data": {
      "text/html": [
       "<div>\n",
       "<style scoped>\n",
       "    .dataframe tbody tr th:only-of-type {\n",
       "        vertical-align: middle;\n",
       "    }\n",
       "\n",
       "    .dataframe tbody tr th {\n",
       "        vertical-align: top;\n",
       "    }\n",
       "\n",
       "    .dataframe thead th {\n",
       "        text-align: right;\n",
       "    }\n",
       "</style>\n",
       "<table border=\"1\" class=\"dataframe\">\n",
       "  <thead>\n",
       "    <tr style=\"text-align: right;\">\n",
       "      <th></th>\n",
       "      <th>bat_team_India</th>\n",
       "      <th>bat_team_Australia</th>\n",
       "      <th>bat_team_England</th>\n",
       "      <th>bat_team_Sri Lanka</th>\n",
       "      <th>bat_team_West Indies</th>\n",
       "      <th>bat_team_South Africa</th>\n",
       "      <th>bat_team_Bangladesh</th>\n",
       "      <th>bat_team_Pakistan</th>\n",
       "      <th>bowl_team_India</th>\n",
       "      <th>bowl_team_Australia</th>\n",
       "      <th>...</th>\n",
       "      <th>bowl_team_West Indies</th>\n",
       "      <th>bowl_team_South Africa</th>\n",
       "      <th>bowl_team_Bangladesh</th>\n",
       "      <th>bowl_team_Pakistan</th>\n",
       "      <th>overs</th>\n",
       "      <th>runs</th>\n",
       "      <th>wickets</th>\n",
       "      <th>runs_last_5</th>\n",
       "      <th>wickets_last_5</th>\n",
       "      <th>total</th>\n",
       "    </tr>\n",
       "  </thead>\n",
       "  <tbody>\n",
       "    <tr>\n",
       "      <th>count</th>\n",
       "      <td>24170.000000</td>\n",
       "      <td>24170.000000</td>\n",
       "      <td>24170.000000</td>\n",
       "      <td>24170.000000</td>\n",
       "      <td>24170.000000</td>\n",
       "      <td>24170.000000</td>\n",
       "      <td>24170.000000</td>\n",
       "      <td>24170.000000</td>\n",
       "      <td>24170.000000</td>\n",
       "      <td>24170.000000</td>\n",
       "      <td>...</td>\n",
       "      <td>24170.000000</td>\n",
       "      <td>24170.000000</td>\n",
       "      <td>24170.000000</td>\n",
       "      <td>24170.000000</td>\n",
       "      <td>24170.000000</td>\n",
       "      <td>24170.000000</td>\n",
       "      <td>24170.000000</td>\n",
       "      <td>24170.000000</td>\n",
       "      <td>24170.000000</td>\n",
       "      <td>24170.000000</td>\n",
       "    </tr>\n",
       "    <tr>\n",
       "      <th>mean</th>\n",
       "      <td>0.137402</td>\n",
       "      <td>0.150269</td>\n",
       "      <td>0.116467</td>\n",
       "      <td>0.134547</td>\n",
       "      <td>0.122507</td>\n",
       "      <td>0.138064</td>\n",
       "      <td>0.048779</td>\n",
       "      <td>0.151965</td>\n",
       "      <td>0.100703</td>\n",
       "      <td>0.157013</td>\n",
       "      <td>...</td>\n",
       "      <td>0.115308</td>\n",
       "      <td>0.116632</td>\n",
       "      <td>0.080265</td>\n",
       "      <td>0.156516</td>\n",
       "      <td>12.288287</td>\n",
       "      <td>94.108978</td>\n",
       "      <td>3.337733</td>\n",
       "      <td>38.082913</td>\n",
       "      <td>1.432023</td>\n",
       "      <td>157.558171</td>\n",
       "    </tr>\n",
       "    <tr>\n",
       "      <th>std</th>\n",
       "      <td>0.344278</td>\n",
       "      <td>0.357342</td>\n",
       "      <td>0.320790</td>\n",
       "      <td>0.341246</td>\n",
       "      <td>0.327878</td>\n",
       "      <td>0.344974</td>\n",
       "      <td>0.215411</td>\n",
       "      <td>0.358995</td>\n",
       "      <td>0.300942</td>\n",
       "      <td>0.363820</td>\n",
       "      <td>...</td>\n",
       "      <td>0.319400</td>\n",
       "      <td>0.320988</td>\n",
       "      <td>0.271708</td>\n",
       "      <td>0.363352</td>\n",
       "      <td>4.312058</td>\n",
       "      <td>40.956796</td>\n",
       "      <td>2.033279</td>\n",
       "      <td>11.817540</td>\n",
       "      <td>1.091055</td>\n",
       "      <td>32.185900</td>\n",
       "    </tr>\n",
       "    <tr>\n",
       "      <th>min</th>\n",
       "      <td>0.000000</td>\n",
       "      <td>0.000000</td>\n",
       "      <td>0.000000</td>\n",
       "      <td>0.000000</td>\n",
       "      <td>0.000000</td>\n",
       "      <td>0.000000</td>\n",
       "      <td>0.000000</td>\n",
       "      <td>0.000000</td>\n",
       "      <td>0.000000</td>\n",
       "      <td>0.000000</td>\n",
       "      <td>...</td>\n",
       "      <td>0.000000</td>\n",
       "      <td>0.000000</td>\n",
       "      <td>0.000000</td>\n",
       "      <td>0.000000</td>\n",
       "      <td>5.000000</td>\n",
       "      <td>12.000000</td>\n",
       "      <td>0.000000</td>\n",
       "      <td>9.000000</td>\n",
       "      <td>0.000000</td>\n",
       "      <td>58.000000</td>\n",
       "    </tr>\n",
       "    <tr>\n",
       "      <th>25%</th>\n",
       "      <td>0.000000</td>\n",
       "      <td>0.000000</td>\n",
       "      <td>0.000000</td>\n",
       "      <td>0.000000</td>\n",
       "      <td>0.000000</td>\n",
       "      <td>0.000000</td>\n",
       "      <td>0.000000</td>\n",
       "      <td>0.000000</td>\n",
       "      <td>0.000000</td>\n",
       "      <td>0.000000</td>\n",
       "      <td>...</td>\n",
       "      <td>0.000000</td>\n",
       "      <td>0.000000</td>\n",
       "      <td>0.000000</td>\n",
       "      <td>0.000000</td>\n",
       "      <td>8.500000</td>\n",
       "      <td>61.000000</td>\n",
       "      <td>2.000000</td>\n",
       "      <td>29.000000</td>\n",
       "      <td>1.000000</td>\n",
       "      <td>135.000000</td>\n",
       "    </tr>\n",
       "    <tr>\n",
       "      <th>50%</th>\n",
       "      <td>0.000000</td>\n",
       "      <td>0.000000</td>\n",
       "      <td>0.000000</td>\n",
       "      <td>0.000000</td>\n",
       "      <td>0.000000</td>\n",
       "      <td>0.000000</td>\n",
       "      <td>0.000000</td>\n",
       "      <td>0.000000</td>\n",
       "      <td>0.000000</td>\n",
       "      <td>0.000000</td>\n",
       "      <td>...</td>\n",
       "      <td>0.000000</td>\n",
       "      <td>0.000000</td>\n",
       "      <td>0.000000</td>\n",
       "      <td>0.000000</td>\n",
       "      <td>12.300000</td>\n",
       "      <td>89.000000</td>\n",
       "      <td>3.000000</td>\n",
       "      <td>37.000000</td>\n",
       "      <td>1.000000</td>\n",
       "      <td>157.000000</td>\n",
       "    </tr>\n",
       "    <tr>\n",
       "      <th>75%</th>\n",
       "      <td>0.000000</td>\n",
       "      <td>0.000000</td>\n",
       "      <td>0.000000</td>\n",
       "      <td>0.000000</td>\n",
       "      <td>0.000000</td>\n",
       "      <td>0.000000</td>\n",
       "      <td>0.000000</td>\n",
       "      <td>0.000000</td>\n",
       "      <td>0.000000</td>\n",
       "      <td>0.000000</td>\n",
       "      <td>...</td>\n",
       "      <td>0.000000</td>\n",
       "      <td>0.000000</td>\n",
       "      <td>0.000000</td>\n",
       "      <td>0.000000</td>\n",
       "      <td>16.100000</td>\n",
       "      <td>122.000000</td>\n",
       "      <td>5.000000</td>\n",
       "      <td>46.000000</td>\n",
       "      <td>2.000000</td>\n",
       "      <td>179.000000</td>\n",
       "    </tr>\n",
       "    <tr>\n",
       "      <th>max</th>\n",
       "      <td>1.000000</td>\n",
       "      <td>1.000000</td>\n",
       "      <td>1.000000</td>\n",
       "      <td>1.000000</td>\n",
       "      <td>1.000000</td>\n",
       "      <td>1.000000</td>\n",
       "      <td>1.000000</td>\n",
       "      <td>1.000000</td>\n",
       "      <td>1.000000</td>\n",
       "      <td>1.000000</td>\n",
       "      <td>...</td>\n",
       "      <td>1.000000</td>\n",
       "      <td>1.000000</td>\n",
       "      <td>1.000000</td>\n",
       "      <td>1.000000</td>\n",
       "      <td>19.600000</td>\n",
       "      <td>263.000000</td>\n",
       "      <td>10.000000</td>\n",
       "      <td>89.000000</td>\n",
       "      <td>8.000000</td>\n",
       "      <td>263.000000</td>\n",
       "    </tr>\n",
       "  </tbody>\n",
       "</table>\n",
       "<p>8 rows × 22 columns</p>\n",
       "</div>"
      ],
      "text/plain": [
       "       bat_team_India  bat_team_Australia  bat_team_England  \\\n",
       "count    24170.000000        24170.000000      24170.000000   \n",
       "mean         0.137402            0.150269          0.116467   \n",
       "std          0.344278            0.357342          0.320790   \n",
       "min          0.000000            0.000000          0.000000   \n",
       "25%          0.000000            0.000000          0.000000   \n",
       "50%          0.000000            0.000000          0.000000   \n",
       "75%          0.000000            0.000000          0.000000   \n",
       "max          1.000000            1.000000          1.000000   \n",
       "\n",
       "       bat_team_Sri Lanka  bat_team_West Indies  bat_team_South Africa  \\\n",
       "count        24170.000000          24170.000000           24170.000000   \n",
       "mean             0.134547              0.122507               0.138064   \n",
       "std              0.341246              0.327878               0.344974   \n",
       "min              0.000000              0.000000               0.000000   \n",
       "25%              0.000000              0.000000               0.000000   \n",
       "50%              0.000000              0.000000               0.000000   \n",
       "75%              0.000000              0.000000               0.000000   \n",
       "max              1.000000              1.000000               1.000000   \n",
       "\n",
       "       bat_team_Bangladesh  bat_team_Pakistan  bowl_team_India  \\\n",
       "count         24170.000000       24170.000000     24170.000000   \n",
       "mean              0.048779           0.151965         0.100703   \n",
       "std               0.215411           0.358995         0.300942   \n",
       "min               0.000000           0.000000         0.000000   \n",
       "25%               0.000000           0.000000         0.000000   \n",
       "50%               0.000000           0.000000         0.000000   \n",
       "75%               0.000000           0.000000         0.000000   \n",
       "max               1.000000           1.000000         1.000000   \n",
       "\n",
       "       bowl_team_Australia  ...  bowl_team_West Indies  \\\n",
       "count         24170.000000  ...           24170.000000   \n",
       "mean              0.157013  ...               0.115308   \n",
       "std               0.363820  ...               0.319400   \n",
       "min               0.000000  ...               0.000000   \n",
       "25%               0.000000  ...               0.000000   \n",
       "50%               0.000000  ...               0.000000   \n",
       "75%               0.000000  ...               0.000000   \n",
       "max               1.000000  ...               1.000000   \n",
       "\n",
       "       bowl_team_South Africa  bowl_team_Bangladesh  bowl_team_Pakistan  \\\n",
       "count            24170.000000          24170.000000        24170.000000   \n",
       "mean                 0.116632              0.080265            0.156516   \n",
       "std                  0.320988              0.271708            0.363352   \n",
       "min                  0.000000              0.000000            0.000000   \n",
       "25%                  0.000000              0.000000            0.000000   \n",
       "50%                  0.000000              0.000000            0.000000   \n",
       "75%                  0.000000              0.000000            0.000000   \n",
       "max                  1.000000              1.000000            1.000000   \n",
       "\n",
       "              overs          runs       wickets   runs_last_5  wickets_last_5  \\\n",
       "count  24170.000000  24170.000000  24170.000000  24170.000000    24170.000000   \n",
       "mean      12.288287     94.108978      3.337733     38.082913        1.432023   \n",
       "std        4.312058     40.956796      2.033279     11.817540        1.091055   \n",
       "min        5.000000     12.000000      0.000000      9.000000        0.000000   \n",
       "25%        8.500000     61.000000      2.000000     29.000000        1.000000   \n",
       "50%       12.300000     89.000000      3.000000     37.000000        1.000000   \n",
       "75%       16.100000    122.000000      5.000000     46.000000        2.000000   \n",
       "max       19.600000    263.000000     10.000000     89.000000        8.000000   \n",
       "\n",
       "              total  \n",
       "count  24170.000000  \n",
       "mean     157.558171  \n",
       "std       32.185900  \n",
       "min       58.000000  \n",
       "25%      135.000000  \n",
       "50%      157.000000  \n",
       "75%      179.000000  \n",
       "max      263.000000  \n",
       "\n",
       "[8 rows x 22 columns]"
      ]
     },
     "execution_count": 32,
     "metadata": {},
     "output_type": "execute_result"
    }
   ],
   "source": [
    "encoded_data.describe()"
   ]
  },
  {
   "cell_type": "markdown",
   "id": "8313139a",
   "metadata": {},
   "source": [
    "# Visualization"
   ]
  },
  {
   "cell_type": "code",
   "execution_count": 33,
   "id": "0116fa52",
   "metadata": {},
   "outputs": [
    {
     "data": {
      "text/plain": [
       "Text(0.5, 1.0, 'Total score Distribution Plot')"
      ]
     },
     "execution_count": 33,
     "metadata": {},
     "output_type": "execute_result"
    },
    {
     "data": {
      "image/png": "[encoded data removed]",
      "text/plain": [
       "<Figure size 792x360 with 1 Axes>"
      ]
     },
     "metadata": {
      "needs_background": "light"
     },
     "output_type": "display_data"
    }
   ],
   "source": [
    "from matplotlib import pyplot as plt\n",
    "import seaborn as sns\n",
    "import warnings\n",
    "warnings.simplefilter(action='ignore', category=FutureWarning)\n",
    "# This makes it very easy to spot anomalies, such as outliers\n",
    "# This makes it very easy to spot anomalies, such as outliers\n",
    "plt.figure(figsize=[11,5])\n",
    "sns.distplot(encoded_data['total'])\n",
    "plt.title('Total score Distribution Plot')"
   ]
  },
  {
   "cell_type": "code",
   "execution_count": 34,
   "id": "f765eb1e",
   "metadata": {},
   "outputs": [
    {
     "data": {
      "image/png": "[encoded data removed]",
      "text/plain": [
       "<Figure size 432x288 with 1 Axes>"
      ]
     },
     "metadata": {
      "needs_background": "light"
     },
     "output_type": "display_data"
    }
   ],
   "source": [
    "plt.plot(encoded_data.overs,encoded_data.runs)\n",
    "plt.show()"
   ]
  },
  {
   "cell_type": "code",
   "execution_count": 35,
   "id": "b35a7eee",
   "metadata": {},
   "outputs": [
    {
     "data": {
      "image/png": "[encoded data removed]",
      "text/plain": [
       "<Figure size 432x288 with 1 Axes>"
      ]
     },
     "metadata": {
      "needs_background": "light"
     },
     "output_type": "display_data"
    }
   ],
   "source": [
    "plt.scatter(encoded_data.wickets_last_5,encoded_data.runs_last_5)\n",
    "plt.show()"
   ]
  },
  {
   "cell_type": "code",
   "execution_count": 36,
   "id": "34913699",
   "metadata": {},
   "outputs": [
    {
     "data": {
      "text/plain": [
       "{'whiskers': [<matplotlib.lines.Line2D at 0x1fd040ac610>,\n",
       "  <matplotlib.lines.Line2D at 0x1fd040ac9a0>],\n",
       " 'caps': [<matplotlib.lines.Line2D at 0x1fd040acd00>,\n",
       "  <matplotlib.lines.Line2D at 0x1fd040bb0a0>],\n",
       " 'boxes': [<matplotlib.lines.Line2D at 0x1fd040ac2b0>],\n",
       " 'medians': [<matplotlib.lines.Line2D at 0x1fd040bb400>],\n",
       " 'fliers': [<matplotlib.lines.Line2D at 0x1fd040bb760>],\n",
       " 'means': []}"
      ]
     },
     "execution_count": 36,
     "metadata": {},
     "output_type": "execute_result"
    },
    {
     "data": {
      "image/png": "[encoded data removed]",
      "text/plain": [
       "<Figure size 432x288 with 1 Axes>"
      ]
     },
     "metadata": {
      "needs_background": "light"
     },
     "output_type": "display_data"
    }
   ],
   "source": [
    "plt.boxplot(encoded_data.total)"
   ]
  },
  {
   "cell_type": "code",
   "execution_count": 37,
   "id": "651d4d53",
   "metadata": {
    "scrolled": true
   },
   "outputs": [
    {
     "data": {
      "image/png": "[encoded data removed]",
      "text/plain": [
       "<Figure size 792x720 with 25 Axes>"
      ]
     },
     "metadata": {
      "needs_background": "light"
     },
     "output_type": "display_data"
    }
   ],
   "source": [
    "encoded_data.hist(figsize=[11,10])\n",
    "plt.show()"
   ]
  },
  {
   "cell_type": "code",
   "execution_count": 38,
   "id": "aeb10357",
   "metadata": {},
   "outputs": [
    {
     "data": {
      "text/plain": [
       "<AxesSubplot:title={'center':'runs and total'}, xlabel='total', ylabel='runs'>"
      ]
     },
     "execution_count": 38,
     "metadata": {},
     "output_type": "execute_result"
    },
    {
     "data": {
      "image/png": "[encoded data removed]",
      "text/plain": [
       "<Figure size 1440x504 with 3 Axes>"
      ]
     },
     "metadata": {
      "needs_background": "light"
     },
     "output_type": "display_data"
    }
   ],
   "source": [
    "import seaborn as sns\n",
    "plt.figure(figsize=[20,7])\n",
    "plt.subplot(1,3,1)\n",
    "plt.title(\"runs_last_5 and total\")\n",
    "sns.scatterplot(x='runs_last_5',y='total',data=encoded_data)\n",
    "plt.subplot(1,3,2)\n",
    "plt.title(\"wickets_last_5 and total\")\n",
    "sns.scatterplot(x='wickets_last_5',y='total',data=encoded_data)\n",
    "plt.subplot(1,3,3)\n",
    "plt.title(\"runs and total\")\n",
    "sns.scatterplot(y='runs',x='total',data=encoded_data)"
   ]
  },
  {
   "cell_type": "markdown",
   "id": "38742bfe",
   "metadata": {},
   "source": [
    "### Python packages "
   ]
  },
  {
   "cell_type": "code",
   "execution_count": 39,
   "id": "737ea638",
   "metadata": {},
   "outputs": [],
   "source": [
    "import pandas as pd\n",
    "import numpy as np\n",
    "import matplotlib.pyplot as plt\n",
    "from datetime import datetime\n",
    "from sklearn.model_selection import train_test_split\n",
    "from sklearn.neighbors import KNeighborsClassifier\n",
    "from sklearn.linear_model import LinearRegression\n",
    "from sklearn.ensemble import RandomForestRegressor\n",
    "from sklearn.model_selection import KFold"
   ]
  },
  {
   "cell_type": "markdown",
   "id": "75c3a3f6",
   "metadata": {},
   "source": [
    "### Supervised/unsupervised Learning Algorithms "
   ]
  },
  {
   "cell_type": "code",
   "execution_count": 40,
   "id": "00a707c1",
   "metadata": {},
   "outputs": [],
   "source": [
    "#In datasets related to time and date we have to split train and test sample based on date.\n",
    "# I have seperated dataset based on year 2017 i.e => after 2016 comes under testing and remaining under training\n",
    "X_train = encoded_data.drop(labels='total', axis=1)[encoded_data['date'].dt.year <= 2016]\n",
    "X_test = encoded_data.drop(labels='total', axis=1)[encoded_data['date'].dt.year >= 2017]"
   ]
  },
  {
   "cell_type": "code",
   "execution_count": 41,
   "id": "c435dc3e",
   "metadata": {},
   "outputs": [],
   "source": [
    "y_train = encoded_data[encoded_data['date'].dt.year <= 2016]['total'].values\n",
    "y_test = encoded_data[encoded_data['date'].dt.year >= 2017]['total'].values"
   ]
  },
  {
   "cell_type": "code",
   "execution_count": 42,
   "id": "2b958928",
   "metadata": {},
   "outputs": [],
   "source": [
    "#Removing date column as we dont need that to train model\n",
    "X_train.drop(labels='date', axis=True, inplace=True)\n",
    "X_test.drop(labels='date', axis=True, inplace=True)"
   ]
  },
  {
   "cell_type": "code",
   "execution_count": 43,
   "id": "05e8b5f4",
   "metadata": {},
   "outputs": [],
   "source": [
    "# Data to be used for k-fold\n",
    "X = X_train.append(X_test)\n",
    "X = X.values\n",
    "y = np.concatenate([y_train,y_test])"
   ]
  },
  {
   "cell_type": "code",
   "execution_count": 44,
   "id": "d5366374",
   "metadata": {},
   "outputs": [],
   "source": [
    "#To find accuracy of our model\n",
    "def custom_accuracy(y_test,y_pred,thresold):\n",
    "    ans = 0\n",
    "    n = len(y_pred)\n",
    "    for i in range(n):\n",
    "        if(abs(y_pred[i]-y_test[i]) <= thresold):\n",
    "            ans += 1\n",
    "    return ((ans/n)*100)"
   ]
  },
  {
   "cell_type": "markdown",
   "id": "5fa6f34c",
   "metadata": {},
   "source": [
    "#### KNN Implementation"
   ]
  },
  {
   "cell_type": "code",
   "execution_count": 45,
   "id": "f716a454",
   "metadata": {},
   "outputs": [
    {
     "name": "stdout",
     "output_type": "stream",
     "text": [
      "Custom accuracy for knn: 66.27288836385115\n"
     ]
    }
   ],
   "source": [
    "knn = KNeighborsClassifier(n_neighbors = 5)\n",
    "knn.fit(X_train, y_train)\n",
    "y_pred = knn.predict(X_test)\n",
    "\n",
    "k_acc = custom_accuracy(y_test,y_pred,20)\n",
    "print(\"Custom accuracy for knn:\" , k_acc)"
   ]
  },
  {
   "cell_type": "markdown",
   "id": "a83625ac",
   "metadata": {},
   "source": [
    "#### KNN Implementation from scratch"
   ]
  },
  {
   "cell_type": "code",
   "execution_count": 46,
   "id": "ceb59de6",
   "metadata": {},
   "outputs": [],
   "source": [
    "def euclidDistance(a,b):\n",
    "    return np.linalg.norm(a-b)"
   ]
  },
  {
   "cell_type": "code",
   "execution_count": 47,
   "id": "3641e157",
   "metadata": {},
   "outputs": [],
   "source": [
    "def nearestNeighbors(trainingData,testSample,k):\n",
    "    distances = []\n",
    "    for x in trainingData:\n",
    "        distances.append([x,euclidDistance(x[0:testSample.shape[0]],testSample)])\n",
    "    distances.sort(key = lambda x : x[-1])\n",
    "    distances = np.array(distances, dtype = 'object')\n",
    "    return distances[0:k]"
   ]
  },
  {
   "cell_type": "code",
   "execution_count": 48,
   "id": "c07a6b06",
   "metadata": {},
   "outputs": [],
   "source": [
    "def predict(trainingData,testData,k):\n",
    "    res = []\n",
    "    for x in testData:\n",
    "        neighbors = nearestNeighbors(trainingData,x,k)\n",
    "        values = []\n",
    "        for y in neighbors:\n",
    "            values.append(y[0][-1])\n",
    "        res.append(max(set(values),key = values.count))\n",
    "    return res"
   ]
  },
  {
   "cell_type": "code",
   "execution_count": 49,
   "id": "0ae48032",
   "metadata": {},
   "outputs": [
    {
     "name": "stdout",
     "output_type": "stream",
     "text": [
      "Custom accuracy for KNN(scratch): 10.0\n"
     ]
    }
   ],
   "source": [
    "trainingData = np.column_stack((np.array(X_train.values),np.array(y_train))) \n",
    "testingData = np.array(X_test.values[0:30])\n",
    "pred = predict(trainingData,testingData,5)\n",
    "print(\"Custom accuracy for KNN(scratch):\" , custom_accuracy(y_test,pred,20))"
   ]
  },
  {
   "cell_type": "markdown",
   "id": "a6e4cbb3",
   "metadata": {},
   "source": [
    "K-fold cross validation"
   ]
  },
  {
   "cell_type": "code",
   "execution_count": 50,
   "id": "8dea9385",
   "metadata": {},
   "outputs": [
    {
     "name": "stdout",
     "output_type": "stream",
     "text": [
      "Accuracies - [59.04013239553165, 64.54282167976831, 60.033098882912704, 64.66694249069094, 64.04633843607779, 61.02606537029375, 59.90897807199007, 59.122879602813406, 60.943318163011995, 62.68100951592884]\n",
      "Maximum Accuracy - 64.66694249069094\n",
      "Minimum Accuracy - 59.04013239553165\n",
      "Average Accuracy - 61.60115846090194\n"
     ]
    }
   ],
   "source": [
    "kf = KFold(n_splits=10, random_state=None) \n",
    "accuracy = []\n",
    "avg_a = 0\n",
    "max_a = 0\n",
    "min_a = 100\n",
    "\n",
    "for train_index, test_index in kf.split(X):\n",
    "    x1, x2 = X[train_index], X[test_index]\n",
    "    y1, y2 = y[train_index], y[test_index]\n",
    "    \n",
    "    knn = KNeighborsClassifier(n_neighbors = 5)\n",
    "    knn.fit(x1, y1)\n",
    "    y3 = knn.predict(x2)\n",
    "    \n",
    "    accu = custom_accuracy(y2,y3,20)\n",
    "    accuracy += [accu]\n",
    "    max_a = max(max_a,accu)\n",
    "    min_a = min(min_a,accu)\n",
    "    avg_a += accu\n",
    "    \n",
    "print(\"Accuracies -\",accuracy)\n",
    "print(\"Maximum Accuracy -\",max_a)\n",
    "print(\"Minimum Accuracy -\",min_a)\n",
    "print(\"Average Accuracy -\",avg_a/10)"
   ]
  },
  {
   "cell_type": "markdown",
   "id": "f91303fc",
   "metadata": {},
   "source": [
    "#### Linear regression"
   ]
  },
  {
   "cell_type": "code",
   "execution_count": 51,
   "id": "163b6aab",
   "metadata": {},
   "outputs": [
    {
     "name": "stdout",
     "output_type": "stream",
     "text": [
      "R square value: 65.93639183137462\n",
      "Custom accuracy for linear regression: 86.06024808033077\n"
     ]
    }
   ],
   "source": [
    "lr = LinearRegression()\n",
    "lr.fit(X_train, y_train)\n",
    "y_pred = lr.predict(X_test)\n",
    "score = lr.score(X_test,y_test)*100\n",
    "l_acc = custom_accuracy(y_test,y_pred,20)\n",
    "\n",
    "print(\"R square value:\" , score)\n",
    "print(\"Custom accuracy for linear regression:\" , l_acc)"
   ]
  },
  {
   "cell_type": "markdown",
   "id": "b4960532",
   "metadata": {},
   "source": [
    "K-fold cross validation"
   ]
  },
  {
   "cell_type": "code",
   "execution_count": 52,
   "id": "169a6cc1",
   "metadata": {},
   "outputs": [
    {
     "name": "stdout",
     "output_type": "stream",
     "text": [
      "Accuracies - [76.58254033926355, 82.91270169631775, 77.16177079023583, 72.85891601158461, 79.52006619776583, 73.9346297062474, 73.35539925527513, 69.21803889118743, 71.86594952420356, 81.75424079437319]\n",
      "Maximum Accuracy - 82.91270169631775\n",
      "Minimum Accuracy - 69.21803889118743\n",
      "Average Accuracy - 75.91642532064543\n"
     ]
    }
   ],
   "source": [
    "kf = KFold(n_splits=10, random_state=None) \n",
    "accuracy = []\n",
    "avg_a = 0\n",
    "max_a = 0\n",
    "min_a = 100\n",
    "\n",
    "for train_index, test_index in kf.split(X):\n",
    "    x1, x2 = X[train_index], X[test_index]\n",
    "    y1, y2 = y[train_index], y[test_index]\n",
    "    \n",
    "    lr = LinearRegression()\n",
    "    lr.fit(x1, y1)\n",
    "    y3 = lr.predict(x2)\n",
    "    \n",
    "    accu = custom_accuracy(y2,y3,20)\n",
    "    accuracy += [accu]\n",
    "    max_a = max(max_a,accu)\n",
    "    min_a = min(min_a,accu)\n",
    "    avg_a += accu\n",
    "    \n",
    "print(\"Accuracies -\",accuracy)\n",
    "print(\"Maximum Accuracy -\",max_a)\n",
    "print(\"Minimum Accuracy -\",min_a)\n",
    "print(\"Average Accuracy -\",avg_a/10)"
   ]
  },
  {
   "cell_type": "markdown",
   "id": "6738331a",
   "metadata": {},
   "source": [
    "### RandomForest Regressor"
   ]
  },
  {
   "cell_type": "code",
   "execution_count": 53,
   "id": "650b81ef",
   "metadata": {},
   "outputs": [
    {
     "name": "stdout",
     "output_type": "stream",
     "text": [
      "R square value: 60.197110093651354\n",
      "Custom accuracy for linear regression: 76.19610159480213\n"
     ]
    }
   ],
   "source": [
    "rf = RandomForestRegressor(n_estimators=100,max_features=None)\n",
    "rf.fit(X_train, y_train)\n",
    "y_pred = rf.predict(X_test)\n",
    "score = rf.score(X_test,y_test)*100\n",
    "r_acc = custom_accuracy(y_test,y_pred,20)\n",
    "\n",
    "print(\"R square value:\" , score)\n",
    "print(\"Custom accuracy for linear regression:\" , r_acc)"
   ]
  },
  {
   "cell_type": "markdown",
   "id": "1f5bb806",
   "metadata": {},
   "source": [
    "K-fold cross validation"
   ]
  },
  {
   "cell_type": "code",
   "execution_count": 54,
   "id": "d1fc5126",
   "metadata": {},
   "outputs": [
    {
     "name": "stdout",
     "output_type": "stream",
     "text": [
      "Accuracies - [67.8113363673976, 73.14853123707074, 68.51468762929251, 67.52172114191146, 73.81050889532477, 69.71452213487794, 69.42490690939181, 69.01117087298304, 64.29458005792304, 69.46628051303269]\n",
      "Maximum Accuracy - 73.81050889532477\n",
      "Minimum Accuracy - 64.29458005792304\n",
      "Average Accuracy - 69.27182457592055\n"
     ]
    }
   ],
   "source": [
    "kf = KFold(n_splits=10, random_state=None) \n",
    "accuracy = []\n",
    "avg_a = 0\n",
    "max_a = 0\n",
    "min_a = 100\n",
    "\n",
    "for train_index, test_index in kf.split(X):\n",
    "    x1, x2 = X[train_index], X[test_index]\n",
    "    y1, y2 = y[train_index], y[test_index]\n",
    "    \n",
    "    rf = RandomForestRegressor(n_estimators=100,max_features=None)\n",
    "    rf.fit(x1, y1)\n",
    "    y3 = rf.predict(x2)\n",
    "    \n",
    "    accu = custom_accuracy(y2,y3,20)\n",
    "    accuracy += [accu]\n",
    "    max_a = max(max_a,accu)\n",
    "    min_a = min(min_a,accu)\n",
    "    avg_a += accu\n",
    "    \n",
    "print(\"Accuracies -\",accuracy)\n",
    "print(\"Maximum Accuracy -\",max_a)\n",
    "print(\"Minimum Accuracy -\",min_a)\n",
    "print(\"Average Accuracy -\",avg_a/10)"
   ]
  },
  {
   "cell_type": "markdown",
   "id": "28d5ca4e",
   "metadata": {},
   "source": [
    "# Accuracy plot"
   ]
  },
  {
   "cell_type": "code",
   "execution_count": 55,
   "id": "67bc7fae",
   "metadata": {},
   "outputs": [
    {
     "data": {
      "image/png": "[encoded data removed]",
      "text/plain": [
       "<Figure size 576x360 with 1 Axes>"
      ]
     },
     "metadata": {
      "needs_background": "light"
     },
     "output_type": "display_data"
    }
   ],
   "source": [
    "colnames = [\"accuracy\",\"names\"]\n",
    "acc = [[k_acc,\"KNN\"],[l_acc,\"Linear regression\"],[r_acc,\"Random forest\"]]\n",
    "\n",
    "mydataframe = pd.DataFrame(acc,columns=colnames)\n",
    "plt.figure(figsize=(8,5))\n",
    "plt.bar(\"names\", \"accuracy\", data = mydataframe, color = \"blue\")\n",
    "plt.xlabel(\"method\")\n",
    "plt.ylabel(\"accuracy\")\n",
    "plt.title(\"comparing accuracies\")\n",
    "plt.show()"
   ]
  },
  {
   "cell_type": "markdown",
   "id": "88c9b6cb",
   "metadata": {},
   "source": [
    "# Lets Predict the score"
   ]
  },
  {
   "cell_type": "code",
   "execution_count": 56,
   "id": "aa400a36",
   "metadata": {},
   "outputs": [],
   "source": [
    "a = np.array([0,1,2,3,4,5,6,7])\n",
    "b = np.zeros((a.size, a.max()+1))\n",
    "b[np.arange(a.size),a] = 1"
   ]
  },
  {
   "cell_type": "code",
   "execution_count": 57,
   "id": "1e90dd4c",
   "metadata": {},
   "outputs": [
    {
     "name": "stdout",
     "output_type": "stream",
     "text": [
      "0 India\n",
      "1 Australia\n",
      "2 England\n",
      "3 Sri Lanka\n",
      "4 South Africa\n",
      "5 West Indies\n",
      "6 Bangladesh\n",
      "7 Pakistan\n",
      "Please input the bat team from the list(0-7): 0\n",
      "\n",
      "You chose:  India\n"
     ]
    }
   ],
   "source": [
    "for i in range(len(consistent_teams)):\n",
    "    print(i,consistent_teams[i])\n",
    "bat_team = int(input(\"Please input the bat team from the list(0-7): \"))\n",
    "print()\n",
    "print(\"You chose: \",consistent_teams[bat_team])\n",
    "bat_team = b[bat_team]"
   ]
  },
  {
   "cell_type": "code",
   "execution_count": 58,
   "id": "7ab6a6e7",
   "metadata": {},
   "outputs": [
    {
     "name": "stdout",
     "output_type": "stream",
     "text": [
      "0 India\n",
      "1 Australia\n",
      "2 England\n",
      "3 Sri Lanka\n",
      "4 South Africa\n",
      "5 West Indies\n",
      "6 Bangladesh\n",
      "7 Pakistan\n",
      "Please input the bowl team from the list(0-7): 1\n",
      "\n",
      "You chose:  Australia\n"
     ]
    }
   ],
   "source": [
    "for i in range(len(consistent_teams)):\n",
    "    print(i,consistent_teams[i])\n",
    "bowl_team = int(input(\"Please input the bowl team from the list(0-7): \"))\n",
    "print()\n",
    "print(\"You chose: \",consistent_teams[bowl_team])\n",
    "bowl_team = b[bowl_team]"
   ]
  },
  {
   "cell_type": "code",
   "execution_count": 59,
   "id": "a842dd44",
   "metadata": {},
   "outputs": [
    {
     "name": "stdout",
     "output_type": "stream",
     "text": [
      "Please enter the current over(>5.0): 6.2\n",
      "Please enter the current score: 62\n",
      "Please enter the wickets fallen: 2\n",
      "Please enter the runs scored in last 5 overs: 30\n",
      "Please enter the wickets fallen in last 5 overs: 2\n"
     ]
    }
   ],
   "source": [
    "overs = float(input(\"Please enter the current over(>5.0): \"))\n",
    "\n",
    "runs = int(input(\"Please enter the current score: \"))\n",
    "\n",
    "wickets = int(input(\"Please enter the wickets fallen: \"))\n",
    "\n",
    "runs_last_5 = int(input(\"Please enter the runs scored in last 5 overs: \"))\n",
    "\n",
    "wickets_last_5 = int(input(\"Please enter the wickets fallen in last 5 overs: \"))"
   ]
  },
  {
   "cell_type": "code",
   "execution_count": 60,
   "id": "4971eacd",
   "metadata": {},
   "outputs": [],
   "source": [
    "#making a vector out of the values\n",
    "data=[]\n",
    "for i in bat_team:\n",
    "    data.append(i)\n",
    "for i in bowl_team:\n",
    "    data.append(i)\n",
    "data.append(overs)\n",
    "data.append(runs)\n",
    "data.append(wickets)\n",
    "data.append(runs_last_5)\n",
    "data.append(wickets_last_5)\n",
    "data=np.array([data])"
   ]
  },
  {
   "cell_type": "code",
   "execution_count": 61,
   "id": "b8c3ac88",
   "metadata": {},
   "outputs": [
    {
     "name": "stdout",
     "output_type": "stream",
     "text": [
      "Predicted Score from all three regressor's are: \n",
      "172\n",
      "172\n",
      "173\n"
     ]
    }
   ],
   "source": [
    "print(\"Predicted Score from all three regressor's are: \")\n",
    "pred=int(lr.predict(data))\n",
    "print(pred)\n",
    "print(int(knn.predict(data)))\n",
    "print(int(rf.predict(data)))"
   ]
  },
  {
   "cell_type": "code",
   "execution_count": 62,
   "id": "7ed1fc85",
   "metadata": {},
   "outputs": [
    {
     "name": "stdout",
     "output_type": "stream",
     "text": [
      "So the average score is from 167 to 177\n"
     ]
    }
   ],
   "source": [
    "print(\"So the average score is from {} to {}\".format(pred-5,pred+5))"
   ]
  }
 ],
 "metadata": {
  "kernelspec": {
   "display_name": "Python 3",
   "language": "python",
   "name": "python3"
  },
  "language_info": {
   "codemirror_mode": {
    "name": "ipython",
    "version": 3
   },
   "file_extension": ".py",
   "mimetype": "text/x-python",
   "name": "python",
   "nbconvert_exporter": "python",
   "pygments_lexer": "ipython3",
   "version": "3.8.8"
  }
 },
 "nbformat": 4,
 "nbformat_minor": 5
}
